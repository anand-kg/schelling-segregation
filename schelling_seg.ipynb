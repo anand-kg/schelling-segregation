{
 "cells": [
  {
   "cell_type": "markdown",
   "metadata": {},
   "source": [
    "# Schelling's Model of Segregation"
   ]
  },
  {
   "cell_type": "markdown",
   "metadata": {},
   "source": [
    "Racial segregation has always been a pernicious social problem in the United States. Although much effort has been extended to desegregate our schools, churches, and neighborhoods, the US continues to remain segregated by race and economic lines. Why is segregation such a difficult problem to eradicate?\n",
    "\n",
    "In 1971, the American economist Thomas Schelling created an agent-based model that might help explain why segregation is so difficult to combat. His model of segregation showed that even when individuals (or \"agents\") didn't mind being surrounded or living by agents of a different race, they would still choose to segregate themselves from other agents over time! Although the model is quite simple, it gives a fascinating look at how individuals might self-segregate, even when they have no explicit desire to do so.\n",
    "\n",
    "In this assignment, we will create a simulation of Schelling's model. The user should be able to set a number of parameters of the model and watch it go.\\[ Ref: http://nifty.stanford.edu/2014/mccown-schelling-model-segregation/ \\]"
   ]
  },
  {
   "cell_type": "code",
   "execution_count": 1,
   "metadata": {},
   "outputs": [],
   "source": [
    "from numpy import array\n",
    "import random as ran\n",
    "import numpy as np\n",
    "\n",
    "def CreateGrid(shape, share_red , share_blue):    \n",
    "    if(share_red+share_blue<1):\n",
    "        share_empty=1-(share_red+share_blue)\n",
    "        arr_random=np.random.choice([0,1,2],(shape,shape),p=[share_empty,share_red,share_blue])\n",
    "    return arr_random"
   ]
  },
  {
   "cell_type": "code",
   "execution_count": 2,
   "metadata": {},
   "outputs": [],
   "source": [
    "import matplotlib.pyplot as plt\n",
    "import matplotlib as mpl\n",
    "\n",
    "def visualize(grid):\n",
    "    \n",
    "    mapcolor = mpl.colors.ListedColormap(['w','r','b'])\n",
    "    mapcolor.set_over('2')\n",
    "    mapcolor.set_under('0')\n",
    "\n",
    "    plt.imshow(grid,cmap=mapcolor)   \n",
    "    plt.show()"
   ]
  },
  {
   "cell_type": "code",
   "execution_count": 3,
   "metadata": {},
   "outputs": [],
   "source": [
    "import random\n",
    "\n",
    "#identifying the location of empty slots in grid\n",
    "def empty_slots(grid):\n",
    "    result = np.where(grid == 0)\n",
    "    empty_list = list(zip(result[0], result[1]))\n",
    "    return empty_list"
   ]
  },
  {
   "cell_type": "code",
   "execution_count": 4,
   "metadata": {},
   "outputs": [],
   "source": [
    "#method to simulate movement of single agent to a empty slot when it doesn't meet PP\n",
    "#written in a way to reuse the method for multiple steps agent movement\n",
    "#returns a flag that indicates if the current agent has moved in the grid after the simulate\n",
    "def simulate_single(grid, pp):\n",
    "    \n",
    "    empty_list = empty_slots(grid)\n",
    "    changes_happened = False;\n",
    "    for (i, j), value in np.ndenumerate(grid):\n",
    "    \n",
    "            current_agent = grid[i][j]\n",
    "            same_counter = 0;\n",
    "            diff_counter = 0;\n",
    "            empty_agent = 0;\n",
    "            \n",
    "            #continue if the selected grid location is an empty slot\n",
    "            if grid[i][j] == 0:\n",
    "                continue;\n",
    "            \n",
    "            #conditions checking the surrounding vertices for a given agent - 8 at max, 3 near the edges.\n",
    "            #inner if to check if the agent matches the neighbouring agent\n",
    "            #inner else to check if the neighbouring agent is not an empty agent\n",
    "            \n",
    "            if i > 0 and j > 0:\n",
    "                if grid[i-1][j-1] == current_agent:\n",
    "                    same_counter+=1;\n",
    "                elif grid[i-1][j-1] != empty_agent:\n",
    "                    diff_counter+=1;\n",
    "                    \n",
    "            if i > 0:\n",
    "                if grid[i-1][j] == current_agent:\n",
    "                    same_counter+=1;\n",
    "                elif grid[i-1][j] != empty_agent:\n",
    "                    diff_counter+=1;\n",
    "            \n",
    "            if j > 0:\n",
    "                if grid[i][j-1] == current_agent:\n",
    "                    same_counter+=1;\n",
    "                elif grid[i][j-1] != empty_agent:\n",
    "                    diff_counter+=1;\n",
    "                   \n",
    "            if i < (grid.shape[0]-1) and j > 0:\n",
    "                if grid[i+1][j-1] == current_agent:\n",
    "                    same_counter+=1;\n",
    "                elif grid[i+1][j-1] != empty_agent:\n",
    "                    diff_counter+=1;\n",
    "                           \n",
    "            if i < (grid.shape[0]-1):\n",
    "                if grid[i+1][j] == current_agent:\n",
    "                    same_counter+=1;\n",
    "                elif grid[i+1][j] != empty_agent:\n",
    "                    diff_counter+=1;\n",
    "                    \n",
    "            if i > 0 and j < (grid.shape[1]-1):\n",
    "                if grid[(i-1,j+1)] == current_agent:\n",
    "                    same_counter += 1\n",
    "                elif grid[(i-1,j+1)] != empty_agent:\n",
    "                    diff_counter += 1\n",
    "                    \n",
    "            if j < (grid.shape[1]-1):\n",
    "                if grid[(i,j+1)] == current_agent:\n",
    "                    same_counter += 1\n",
    "                elif grid[(i,j+1)] != empty_agent:\n",
    "                    diff_counter += 1\n",
    "                    \n",
    "            if i < (grid.shape[0]-1) and j < (grid.shape[1]-1):\n",
    "                if grid[(i+1,j+1)] == current_agent:\n",
    "                    same_counter += 1\n",
    "                elif grid[(i+1,j+1)] != empty_agent:\n",
    "                    diff_counter += 1            \n",
    "            \n",
    "            #happens if the agent is an empty agent\n",
    "            if(same_counter+diff_counter == 0):\n",
    "                continue;\n",
    "            \n",
    "            #compare the pp value against the obtained ratio\n",
    "            elif(float(same_counter)/(same_counter+diff_counter) < pp):\n",
    "                \n",
    "                #picking an empty spot and replacing it with current agent\n",
    "                #adding current agent location to empty slot\n",
    "                rand = random.randint(0,(len(empty_list)-1))\n",
    "                index = empty_list[rand]     \n",
    "                grid[index[0]][index[1]] = grid[i][j]\n",
    "                grid[i][j] = 0\n",
    "                del empty_list[rand]\n",
    "                empty_list.append((i,j))\n",
    "                changes_happened = True;\n",
    "                \n",
    "    return changes_happened;"
   ]
  },
  {
   "cell_type": "code",
   "execution_count": 5,
   "metadata": {},
   "outputs": [],
   "source": [
    "#method to simulate number of given steps, or till there is no changes for specified number of steps\n",
    "def simulate(grid, preferred_proportion, max_steps, no_changes_threshold, iterations_to_next_visualization):\n",
    "    no_changes_count = 0;\n",
    "    for i in range(max_steps):\n",
    "        \n",
    "        #counter update - to check if there is any changes made after the simulate\n",
    "        if(simulate_single(grid, preferred_proportion)==False):\n",
    "            no_changes_count+=1\n",
    "        else:\n",
    "            no_changes_count=0\n",
    "    \n",
    "        #to see if there is no changes happening for a specified number of steps\n",
    "        if(no_changes_count == no_changes_threshold):\n",
    "            #print(\"Maximum no change steps reached\")\n",
    "            break;\n",
    "            \n",
    "        #to generate a grid visualization after specified number of iterations\n",
    "        if((i+1)%iterations_to_next_visualization == 0):\n",
    "            visualize(grid)\n",
    "            \n",
    "    return grid"
   ]
  },
  {
   "cell_type": "code",
   "execution_count": 6,
   "metadata": {},
   "outputs": [
    {
     "data": {
      "image/png": "[encoded data removed]",
      "text/plain": [
       "<Figure size 432x288 with 1 Axes>"
      ]
     },
     "metadata": {
      "needs_background": "light"
     },
     "output_type": "display_data"
    },
    {
     "data": {
      "image/png": "[encoded data removed]",
      "text/plain": [
       "<Figure size 432x288 with 1 Axes>"
      ]
     },
     "metadata": {
      "needs_background": "light"
     },
     "output_type": "display_data"
    },
    {
     "data": {
      "image/png": "[encoded data removed]",
      "text/plain": [
       "<Figure size 432x288 with 1 Axes>"
      ]
     },
     "metadata": {
      "needs_background": "light"
     },
     "output_type": "display_data"
    },
    {
     "data": {
      "image/png": "[encoded data removed]",
      "text/plain": [
       "<Figure size 432x288 with 1 Axes>"
      ]
     },
     "metadata": {
      "needs_background": "light"
     },
     "output_type": "display_data"
    },
    {
     "name": "stdout",
     "output_type": "stream",
     "text": [
      "Result\n"
     ]
    },
    {
     "data": {
      "image/png": "[encoded data removed]",
      "text/plain": [
       "<Figure size 432x288 with 1 Axes>"
      ]
     },
     "metadata": {
      "needs_background": "light"
     },
     "output_type": "display_data"
    }
   ],
   "source": [
    "grid=CreateGrid(shape = 15, share_red = 0.45, share_blue = 0.45)\n",
    "visualize(grid)\n",
    "\n",
    "seg_grid = simulate(grid, preferred_proportion = .7, max_steps = 500, no_changes_threshold = 5, iterations_to_next_visualization = 10)\n",
    "\n",
    "print(\"Result\")\n",
    "visualize(seg_grid)"
   ]
  },
  {
   "cell_type": "code",
   "execution_count": null,
   "metadata": {},
   "outputs": [],
   "source": []
  }
 ],
 "metadata": {
  "kernelspec": {
   "display_name": "Python 3",
   "language": "python",
   "name": "python3"
  },
  "language_info": {
   "codemirror_mode": {
    "name": "ipython",
    "version": 3
   },
   "file_extension": ".py",
   "mimetype": "text/x-python",
   "name": "python",
   "nbconvert_exporter": "python",
   "pygments_lexer": "ipython3",
   "version": "3.7.6"
  }
 },
 "nbformat": 4,
 "nbformat_minor": 4
}
